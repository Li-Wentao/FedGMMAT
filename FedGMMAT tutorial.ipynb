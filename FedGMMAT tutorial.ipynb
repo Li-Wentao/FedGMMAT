{
 "cells": [
  {
   "cell_type": "code",
   "execution_count": 1,
   "id": "61b521ce",
   "metadata": {},
   "outputs": [],
   "source": [
    "import pandas as pd\n",
    "import random"
   ]
  },
  {
   "cell_type": "markdown",
   "id": "dd05880a",
   "metadata": {},
   "source": [
    "# Data preprocessing\n",
    "- Randomly split the data by patient ids into 3 sites"
   ]
  },
  {
   "cell_type": "code",
   "execution_count": 2,
   "id": "d31dfb30",
   "metadata": {},
   "outputs": [],
   "source": [
    "random.seed(233)\n",
    "df = pd.read_csv('example_data/pheno.csv', index_col=0)\n",
    "split = [random.randint(1,3) for i in range(400)]\n",
    "df['site'] = split\n",
    "df['(intercept)'] = 1\n",
    "data = [df[df['site']==i+1].reset_index(drop=True)[['(intercept)','age','sex']] for i in range(3)]\n",
    "out = [df[df['site']==i+1].reset_index(drop=True)['disease'] for i in range(3)]\n",
    "X_all = df[['age','sex','(intercept)']]\n",
    "y_all = df['disease']\n",
    "ans = pd.concat([df[df['site']==i+1] for i in range(3)])\n",
    "idx = ans.index - 1 \n",
    "idx_inv = ans.reset_index().sort_values('id').index\n",
    "kins = pd.read_csv('example_data/GRM.csv')\n",
    "kins = kins.iloc[idx,idx].reset_index(drop=True).T.reset_index(drop=True) # align with the split datasets"
   ]
  },
  {
   "cell_type": "code",
   "execution_count": 3,
   "id": "0699c76d",
   "metadata": {},
   "outputs": [],
   "source": [
    "G = pd.read_table('example_data/geno.txt', skiprows=5, header=None, index_col=0)\n",
    "geno = G.iloc[:,2:].T.reset_index(drop=True).T\n",
    "ans = geno.T\n",
    "ans['site'] = split\n",
    "geno_list = [ans[ans.site==i+1].drop('site', axis=1).reset_index(drop=True).T for i in range(3)]"
   ]
  },
  {
   "cell_type": "markdown",
   "id": "ad049b46",
   "metadata": {},
   "source": [
    "# FedGMMAT"
   ]
  },
  {
   "cell_type": "markdown",
   "id": "a92309be",
   "metadata": {},
   "source": [
    "- Simulated federated training"
   ]
  },
  {
   "cell_type": "code",
   "execution_count": 4,
   "id": "89b480a5",
   "metadata": {},
   "outputs": [],
   "source": [
    "from fGMMAT import FedGLMMkin"
   ]
  },
  {
   "cell_type": "code",
   "execution_count": 5,
   "id": "25aaf2fe",
   "metadata": {
    "scrolled": true
   },
   "outputs": [
    {
     "name": "stdout",
     "output_type": "stream",
     "text": [
      "\n",
      "Iteration 1:\n",
      "\n",
      "Variance component estimates:\n",
      "tensor([1.0000, 0.5333], grad_fn=<IndexPutBackward0>)\n",
      "Fixed-effect coefficients:\n",
      "tensor([ 0.5573, -0.0072, -0.0850], dtype=torch.float64,\n",
      "       grad_fn=<SelectBackward0>)\n",
      "\n",
      "Iteration 2:\n",
      "\n",
      "Variance component estimates:\n",
      "tensor([1.0000, 0.4793], grad_fn=<IndexPutBackward0>)\n",
      "Fixed-effect coefficients:\n",
      "tensor([ 0.4948, -0.0069, -0.0861], dtype=torch.float64,\n",
      "       grad_fn=<SelectBackward0>)\n",
      "\n",
      "Iteration 3:\n",
      "\n",
      "Variance component estimates:\n",
      "tensor([1.0000, 0.3217], grad_fn=<IndexPutBackward0>)\n",
      "Fixed-effect coefficients:\n",
      "tensor([ 0.4940, -0.0069, -0.0868], dtype=torch.float64,\n",
      "       grad_fn=<SelectBackward0>)\n",
      "\n",
      "Iteration 4:\n",
      "\n",
      "Variance component estimates:\n",
      "tensor([1.0000, 0.3579], grad_fn=<IndexPutBackward0>)\n",
      "Fixed-effect coefficients:\n",
      "tensor([ 0.4688, -0.0068, -0.0863], dtype=torch.float64,\n",
      "       grad_fn=<SelectBackward0>)\n",
      "\n",
      "Iteration 5:\n",
      "\n",
      "Variance component estimates:\n",
      "tensor([1.0000, 0.3308], grad_fn=<IndexPutBackward0>)\n",
      "Fixed-effect coefficients:\n",
      "tensor([ 0.4755, -0.0068, -0.0865], dtype=torch.float64,\n",
      "       grad_fn=<SelectBackward0>)\n",
      "\n",
      "Iteration 6:\n",
      "\n",
      "Variance component estimates:\n",
      "tensor([1.0000, 0.3417], grad_fn=<IndexPutBackward0>)\n",
      "Fixed-effect coefficients:\n",
      "tensor([ 0.4709, -0.0068, -0.0864], dtype=torch.float64,\n",
      "       grad_fn=<SelectBackward0>)\n",
      "\n",
      "Iteration 7:\n",
      "\n",
      "Variance component estimates:\n",
      "tensor([1.0000, 0.3360], grad_fn=<IndexPutBackward0>)\n",
      "Fixed-effect coefficients:\n",
      "tensor([ 0.4728, -0.0068, -0.0865], dtype=torch.float64,\n",
      "       grad_fn=<SelectBackward0>)\n",
      "\n",
      "Iteration 8:\n",
      "\n",
      "Variance component estimates:\n",
      "tensor([1.0000, 0.3386], grad_fn=<IndexPutBackward0>)\n",
      "Fixed-effect coefficients:\n",
      "tensor([ 0.4718, -0.0068, -0.0864], dtype=torch.float64,\n",
      "       grad_fn=<SelectBackward0>)\n",
      "\n",
      "Iteration 9:\n",
      "\n",
      "Variance component estimates:\n",
      "tensor([1.0000, 0.3373], grad_fn=<IndexPutBackward0>)\n",
      "Fixed-effect coefficients:\n",
      "tensor([ 0.4722, -0.0068, -0.0864], dtype=torch.float64,\n",
      "       grad_fn=<SelectBackward0>)\n",
      "\n",
      "Iteration 10:\n",
      "\n",
      "Variance component estimates:\n",
      "tensor([1.0000, 0.3379], grad_fn=<IndexPutBackward0>)\n",
      "Fixed-effect coefficients:\n",
      "tensor([ 0.4720, -0.0068, -0.0864], dtype=torch.float64,\n",
      "       grad_fn=<SelectBackward0>)\n",
      "\n",
      "Iteration 11:\n",
      "\n",
      "Variance component estimates:\n",
      "tensor([1.0000, 0.3376], grad_fn=<IndexPutBackward0>)\n",
      "Fixed-effect coefficients:\n",
      "tensor([ 0.4721, -0.0068, -0.0864], dtype=torch.float64,\n",
      "       grad_fn=<SelectBackward0>)\n",
      "\n",
      "Iteration 12:\n",
      "\n",
      "Variance component estimates:\n",
      "tensor([1.0000, 0.3378], grad_fn=<IndexPutBackward0>)\n",
      "Fixed-effect coefficients:\n",
      "tensor([ 0.4721, -0.0068, -0.0864], dtype=torch.float64,\n",
      "       grad_fn=<SelectBackward0>)\n",
      "\n",
      "Iteration 13:\n",
      "\n",
      "Variance component estimates:\n",
      "tensor([1.0000, 0.3377], grad_fn=<IndexPutBackward0>)\n",
      "Fixed-effect coefficients:\n",
      "tensor([ 0.4721, -0.0068, -0.0864], dtype=torch.float64,\n",
      "       grad_fn=<SelectBackward0>)\n",
      "\n",
      "Iteration 14:\n",
      "\n",
      "Variance component estimates:\n",
      "tensor([1.0000, 0.3377], grad_fn=<IndexPutBackward0>)\n",
      "Fixed-effect coefficients:\n",
      "tensor([ 0.4721, -0.0068, -0.0864], dtype=torch.float64,\n",
      "       grad_fn=<SelectBackward0>)\n",
      "\n",
      "Iteration 15:\n",
      "\n",
      "Variance component estimates:\n",
      "tensor([1.0000, 0.3377], grad_fn=<IndexPutBackward0>)\n",
      "Fixed-effect coefficients:\n",
      "tensor([ 0.4721, -0.0068, -0.0864], dtype=torch.float64,\n",
      "       grad_fn=<SelectBackward0>)\n",
      "\n",
      "Iteration 16:\n",
      "\n",
      "Variance component estimates:\n",
      "tensor([1.0000, 0.3377], grad_fn=<IndexPutBackward0>)\n",
      "Fixed-effect coefficients:\n",
      "tensor([ 0.4721, -0.0068, -0.0864], dtype=torch.float64,\n",
      "       grad_fn=<SelectBackward0>)\n",
      "\n",
      "Iteration 17:\n",
      "\n",
      "Variance component estimates:\n",
      "tensor([1.0000, 0.3377], grad_fn=<IndexPutBackward0>)\n",
      "Fixed-effect coefficients:\n",
      "tensor([ 0.4721, -0.0068, -0.0864], dtype=torch.float64,\n",
      "       grad_fn=<SelectBackward0>)\n",
      "\n",
      "Iteration 18:\n",
      "\n",
      "Variance component estimates:\n",
      "tensor([1.0000, 0.3377], grad_fn=<IndexPutBackward0>)\n",
      "Fixed-effect coefficients:\n",
      "tensor([ 0.4721, -0.0068, -0.0864], dtype=torch.float64,\n",
      "       grad_fn=<SelectBackward0>)\n"
     ]
    },
    {
     "data": {
      "text/plain": [
       "<fGMMAT.FedGLMMkin at 0x7f6f207c2560>"
      ]
     },
     "execution_count": 5,
     "metadata": {},
     "output_type": "execute_result"
    }
   ],
   "source": [
    "model = FedGLMMkin(data, out, kins)\n",
    "model.fit()"
   ]
  },
  {
   "cell_type": "markdown",
   "id": "6a3f8bba",
   "metadata": {},
   "source": [
    "- Simulated federated score test"
   ]
  },
  {
   "cell_type": "code",
   "execution_count": 6,
   "id": "08230774",
   "metadata": {},
   "outputs": [],
   "source": [
    "from fGMMAT import FedGLMMscore"
   ]
  },
  {
   "cell_type": "code",
   "execution_count": 7,
   "id": "c1b755aa",
   "metadata": {},
   "outputs": [
    {
     "data": {
      "text/html": [
       "<div>\n",
       "<style scoped>\n",
       "    .dataframe tbody tr th:only-of-type {\n",
       "        vertical-align: middle;\n",
       "    }\n",
       "\n",
       "    .dataframe tbody tr th {\n",
       "        vertical-align: top;\n",
       "    }\n",
       "\n",
       "    .dataframe thead th {\n",
       "        text-align: right;\n",
       "    }\n",
       "</style>\n",
       "<table border=\"1\" class=\"dataframe\">\n",
       "  <thead>\n",
       "    <tr style=\"text-align: right;\">\n",
       "      <th></th>\n",
       "      <th>SCORE</th>\n",
       "      <th>VAR</th>\n",
       "      <th>PVAL</th>\n",
       "    </tr>\n",
       "  </thead>\n",
       "  <tbody>\n",
       "    <tr>\n",
       "      <th>SNP1</th>\n",
       "      <td>2.004181</td>\n",
       "      <td>4.559671</td>\n",
       "      <td>0.347948</td>\n",
       "    </tr>\n",
       "    <tr>\n",
       "      <th>SNP2</th>\n",
       "      <td>3.510316</td>\n",
       "      <td>46.332771</td>\n",
       "      <td>0.606060</td>\n",
       "    </tr>\n",
       "    <tr>\n",
       "      <th>SNP3</th>\n",
       "      <td>-0.533400</td>\n",
       "      <td>30.602285</td>\n",
       "      <td>0.923185</td>\n",
       "    </tr>\n",
       "    <tr>\n",
       "      <th>SNP4</th>\n",
       "      <td>-3.114941</td>\n",
       "      <td>40.512761</td>\n",
       "      <td>0.624567</td>\n",
       "    </tr>\n",
       "    <tr>\n",
       "      <th>SNP5</th>\n",
       "      <td>-4.001351</td>\n",
       "      <td>42.275721</td>\n",
       "      <td>0.538287</td>\n",
       "    </tr>\n",
       "    <tr>\n",
       "      <th>...</th>\n",
       "      <td>...</td>\n",
       "      <td>...</td>\n",
       "      <td>...</td>\n",
       "    </tr>\n",
       "    <tr>\n",
       "      <th>SNP96</th>\n",
       "      <td>2.233687</td>\n",
       "      <td>20.462373</td>\n",
       "      <td>0.621453</td>\n",
       "    </tr>\n",
       "    <tr>\n",
       "      <th>SNP97</th>\n",
       "      <td>2.139565</td>\n",
       "      <td>35.673694</td>\n",
       "      <td>0.720178</td>\n",
       "    </tr>\n",
       "    <tr>\n",
       "      <th>SNP98</th>\n",
       "      <td>-4.475855</td>\n",
       "      <td>20.348072</td>\n",
       "      <td>0.321083</td>\n",
       "    </tr>\n",
       "    <tr>\n",
       "      <th>SNP99</th>\n",
       "      <td>1.150859</td>\n",
       "      <td>11.920554</td>\n",
       "      <td>0.738886</td>\n",
       "    </tr>\n",
       "    <tr>\n",
       "      <th>SNP100</th>\n",
       "      <td>-0.383223</td>\n",
       "      <td>16.399351</td>\n",
       "      <td>0.924607</td>\n",
       "    </tr>\n",
       "  </tbody>\n",
       "</table>\n",
       "<p>100 rows × 3 columns</p>\n",
       "</div>"
      ],
      "text/plain": [
       "           SCORE        VAR      PVAL\n",
       "SNP1    2.004181   4.559671  0.347948\n",
       "SNP2    3.510316  46.332771  0.606060\n",
       "SNP3   -0.533400  30.602285  0.923185\n",
       "SNP4   -3.114941  40.512761  0.624567\n",
       "SNP5   -4.001351  42.275721  0.538287\n",
       "...          ...        ...       ...\n",
       "SNP96   2.233687  20.462373  0.621453\n",
       "SNP97   2.139565  35.673694  0.720178\n",
       "SNP98  -4.475855  20.348072  0.321083\n",
       "SNP99   1.150859  11.920554  0.738886\n",
       "SNP100 -0.383223  16.399351  0.924607\n",
       "\n",
       "[100 rows x 3 columns]"
      ]
     },
     "execution_count": 7,
     "metadata": {},
     "output_type": "execute_result"
    }
   ],
   "source": [
    "df_test = FedGLMMscore(model, geno_list)\n",
    "df_test"
   ]
  },
  {
   "cell_type": "markdown",
   "id": "1ffaf3f5",
   "metadata": {},
   "source": [
    "# Result Visualization"
   ]
  },
  {
   "cell_type": "markdown",
   "id": "e779e2c6",
   "metadata": {},
   "source": [
    "- Load results from R package 'GMMAT' \n",
    "\n",
    "NOTICE: Please refer to Benchmark.R file to generate the results, this may require install GMMAT package in R. See the repository of GMMAT https://github.com/hanchenphd/GMMAT"
   ]
  },
  {
   "cell_type": "code",
   "execution_count": 8,
   "id": "f0984789",
   "metadata": {},
   "outputs": [
    {
     "data": {
      "text/html": [
       "<div>\n",
       "<style scoped>\n",
       "    .dataframe tbody tr th:only-of-type {\n",
       "        vertical-align: middle;\n",
       "    }\n",
       "\n",
       "    .dataframe tbody tr th {\n",
       "        vertical-align: top;\n",
       "    }\n",
       "\n",
       "    .dataframe thead th {\n",
       "        text-align: right;\n",
       "    }\n",
       "</style>\n",
       "<table border=\"1\" class=\"dataframe\">\n",
       "  <thead>\n",
       "    <tr style=\"text-align: right;\">\n",
       "      <th></th>\n",
       "      <th>SNP</th>\n",
       "      <th>Allele1</th>\n",
       "      <th>Allele2</th>\n",
       "      <th>N</th>\n",
       "      <th>AF</th>\n",
       "      <th>SCORE</th>\n",
       "      <th>VAR</th>\n",
       "      <th>PVAL</th>\n",
       "    </tr>\n",
       "  </thead>\n",
       "  <tbody>\n",
       "    <tr>\n",
       "      <th>0</th>\n",
       "      <td>SNP1</td>\n",
       "      <td>A</td>\n",
       "      <td>T</td>\n",
       "      <td>393</td>\n",
       "      <td>0.025445</td>\n",
       "      <td>1.985000</td>\n",
       "      <td>4.55635</td>\n",
       "      <td>0.352406</td>\n",
       "    </tr>\n",
       "    <tr>\n",
       "      <th>1</th>\n",
       "      <td>SNP2</td>\n",
       "      <td>A</td>\n",
       "      <td>C</td>\n",
       "      <td>400</td>\n",
       "      <td>0.500000</td>\n",
       "      <td>3.510320</td>\n",
       "      <td>46.33280</td>\n",
       "      <td>0.606060</td>\n",
       "    </tr>\n",
       "    <tr>\n",
       "      <th>2</th>\n",
       "      <td>SNP3</td>\n",
       "      <td>A</td>\n",
       "      <td>C</td>\n",
       "      <td>400</td>\n",
       "      <td>0.207500</td>\n",
       "      <td>-0.533400</td>\n",
       "      <td>30.60230</td>\n",
       "      <td>0.923185</td>\n",
       "    </tr>\n",
       "    <tr>\n",
       "      <th>3</th>\n",
       "      <td>SNP4</td>\n",
       "      <td>A</td>\n",
       "      <td>G</td>\n",
       "      <td>400</td>\n",
       "      <td>0.298750</td>\n",
       "      <td>-3.114940</td>\n",
       "      <td>40.51280</td>\n",
       "      <td>0.624567</td>\n",
       "    </tr>\n",
       "    <tr>\n",
       "      <th>4</th>\n",
       "      <td>SNP5</td>\n",
       "      <td>A</td>\n",
       "      <td>G</td>\n",
       "      <td>400</td>\n",
       "      <td>0.593750</td>\n",
       "      <td>-4.001350</td>\n",
       "      <td>42.27570</td>\n",
       "      <td>0.538287</td>\n",
       "    </tr>\n",
       "    <tr>\n",
       "      <th>...</th>\n",
       "      <td>...</td>\n",
       "      <td>...</td>\n",
       "      <td>...</td>\n",
       "      <td>...</td>\n",
       "      <td>...</td>\n",
       "      <td>...</td>\n",
       "      <td>...</td>\n",
       "      <td>...</td>\n",
       "    </tr>\n",
       "    <tr>\n",
       "      <th>95</th>\n",
       "      <td>SNP96</td>\n",
       "      <td>A</td>\n",
       "      <td>C</td>\n",
       "      <td>400</td>\n",
       "      <td>0.123750</td>\n",
       "      <td>2.233690</td>\n",
       "      <td>20.46240</td>\n",
       "      <td>0.621453</td>\n",
       "    </tr>\n",
       "    <tr>\n",
       "      <th>96</th>\n",
       "      <td>SNP97</td>\n",
       "      <td>A</td>\n",
       "      <td>T</td>\n",
       "      <td>400</td>\n",
       "      <td>0.251250</td>\n",
       "      <td>2.139570</td>\n",
       "      <td>35.67370</td>\n",
       "      <td>0.720178</td>\n",
       "    </tr>\n",
       "    <tr>\n",
       "      <th>97</th>\n",
       "      <td>SNP98</td>\n",
       "      <td>A</td>\n",
       "      <td>G</td>\n",
       "      <td>400</td>\n",
       "      <td>0.130000</td>\n",
       "      <td>-4.475860</td>\n",
       "      <td>20.34810</td>\n",
       "      <td>0.321083</td>\n",
       "    </tr>\n",
       "    <tr>\n",
       "      <th>98</th>\n",
       "      <td>SNP99</td>\n",
       "      <td>A</td>\n",
       "      <td>T</td>\n",
       "      <td>400</td>\n",
       "      <td>0.067500</td>\n",
       "      <td>1.150860</td>\n",
       "      <td>11.92060</td>\n",
       "      <td>0.738886</td>\n",
       "    </tr>\n",
       "    <tr>\n",
       "      <th>99</th>\n",
       "      <td>SNP100</td>\n",
       "      <td>A</td>\n",
       "      <td>C</td>\n",
       "      <td>400</td>\n",
       "      <td>0.086250</td>\n",
       "      <td>-0.383223</td>\n",
       "      <td>16.39940</td>\n",
       "      <td>0.924607</td>\n",
       "    </tr>\n",
       "  </tbody>\n",
       "</table>\n",
       "<p>100 rows × 8 columns</p>\n",
       "</div>"
      ],
      "text/plain": [
       "       SNP Allele1 Allele2    N        AF     SCORE       VAR      PVAL\n",
       "0     SNP1       A       T  393  0.025445  1.985000   4.55635  0.352406\n",
       "1     SNP2       A       C  400  0.500000  3.510320  46.33280  0.606060\n",
       "2     SNP3       A       C  400  0.207500 -0.533400  30.60230  0.923185\n",
       "3     SNP4       A       G  400  0.298750 -3.114940  40.51280  0.624567\n",
       "4     SNP5       A       G  400  0.593750 -4.001350  42.27570  0.538287\n",
       "..     ...     ...     ...  ...       ...       ...       ...       ...\n",
       "95   SNP96       A       C  400  0.123750  2.233690  20.46240  0.621453\n",
       "96   SNP97       A       T  400  0.251250  2.139570  35.67370  0.720178\n",
       "97   SNP98       A       G  400  0.130000 -4.475860  20.34810  0.321083\n",
       "98   SNP99       A       T  400  0.067500  1.150860  11.92060  0.738886\n",
       "99  SNP100       A       C  400  0.086250 -0.383223  16.39940  0.924607\n",
       "\n",
       "[100 rows x 8 columns]"
      ]
     },
     "execution_count": 8,
     "metadata": {},
     "output_type": "execute_result"
    }
   ],
   "source": [
    "df_r = pd.read_table('glmm.score.text.testoutfile.txt')\n",
    "df_r"
   ]
  },
  {
   "cell_type": "code",
   "execution_count": 9,
   "id": "52e036bc",
   "metadata": {},
   "outputs": [],
   "source": [
    "import seaborn as sns\n",
    "import numpy as np\n",
    "from scipy import stats"
   ]
  },
  {
   "cell_type": "code",
   "execution_count": 10,
   "id": "4c0ee29d",
   "metadata": {},
   "outputs": [
    {
     "data": {
      "text/plain": [
       "<AxesSubplot:title={'center':'Scatter plot of P-values in -log scale (\"GMMAT\")'}, xlabel='FedGMMAT', ylabel='GMMAT'>"
      ]
     },
     "execution_count": 10,
     "metadata": {},
     "output_type": "execute_result"
    },
    {
     "data": {
      "image/png": "[encoded data removed]",
      "text/plain": [
       "<Figure size 432x288 with 1 Axes>"
      ]
     },
     "metadata": {
      "needs_background": "light"
     },
     "output_type": "display_data"
    }
   ],
   "source": [
    "# ax = sns.scatterplot(x=-np.log(Ps.R_projected)/np.log(10), y=-np.log(Ps.fGLMM_projected)/np.log(10))\n",
    "ax = sns.scatterplot(x=-np.log(df_test.PVAL.values)/np.log(10), \n",
    "                     y=-np.log(df_r.PVAL.values)/np.log(10))\n",
    "ax.set(title='Scatter plot of P-values in -log scale (\"GMMAT\")', ylabel='GMMAT',\n",
    "       xlabel='FedGMMAT')\n",
    "sns.lineplot(x=-np.log(df_test.PVAL.values)/np.log(10), \n",
    "             y=-np.log(df_test.PVAL.values)/np.log(10), \n",
    "             color='g', linestyle='--')"
   ]
  },
  {
   "cell_type": "markdown",
   "id": "472be1d6",
   "metadata": {},
   "source": [
    "# Correlation tests"
   ]
  },
  {
   "cell_type": "code",
   "execution_count": 11,
   "id": "a4ba2550",
   "metadata": {},
   "outputs": [
    {
     "data": {
      "text/plain": [
       "SpearmanrResult(correlation=0.9999879987998799, pvalue=3.448065874529609e-228)"
      ]
     },
     "execution_count": 11,
     "metadata": {},
     "output_type": "execute_result"
    }
   ],
   "source": [
    "stats.spearmanr(df_test.PVAL.values, df_r.PVAL.values)"
   ]
  },
  {
   "cell_type": "code",
   "execution_count": 12,
   "id": "a54a25ad",
   "metadata": {},
   "outputs": [
    {
     "data": {
      "text/plain": [
       "(0.9999987931965519, 4.527590970858344e-277)"
      ]
     },
     "execution_count": 12,
     "metadata": {},
     "output_type": "execute_result"
    }
   ],
   "source": [
    "stats.pearsonr(df_test.PVAL.values, df_r.PVAL.values)"
   ]
  }
 ],
 "metadata": {
  "kernelspec": {
   "display_name": "Python [conda env:fGLMM]",
   "language": "python",
   "name": "conda-env-fGLMM-py"
  },
  "language_info": {
   "codemirror_mode": {
    "name": "ipython",
    "version": 3
   },
   "file_extension": ".py",
   "mimetype": "text/x-python",
   "name": "python",
   "nbconvert_exporter": "python",
   "pygments_lexer": "ipython3",
   "version": "3.10.4"
  }
 },
 "nbformat": 4,
 "nbformat_minor": 5
}
